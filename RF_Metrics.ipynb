{
 "cells": [
  {
   "cell_type": "code",
   "execution_count": 1,
   "metadata": {},
   "outputs": [],
   "source": [
    "import numpy as np\n",
    "import pandas as pd\n",
    "import seaborn as sns\n",
    "import itertools\n",
    "import matplotlib.pyplot as plt\n",
    "from mlxtend.plotting import plot_confusion_matrix\n",
    "from sklearn.metrics import confusion_matrix, recall_score, precision_score, classification_report, accuracy_score\n",
    "from sklearn.pipeline import Pipeline\n",
    "import warnings\n",
    "from mlxtend.plotting import plot_confusion_matrix\n",
    "from sklearn.metrics import confusion_matrix, accuracy_score\n",
    "from sklearn.metrics import roc_curve, auc, roc_auc_score\n",
    "warnings.simplefilter('ignore')\n",
    "from sklearn.ensemble import RandomForestClassifier\n",
    "from sklearn.model_selection import RandomizedSearchCV, GridSearchCV, train_test_split"
   ]
  },
  {
   "cell_type": "code",
   "execution_count": 2,
   "metadata": {},
   "outputs": [],
   "source": [
    "PCOS_inf = pd.read_csv('./../PCOS_infertility.csv')\n",
    "PCOS_woinf = pd.read_excel('./../PCOS_data_without_infertility.xlsx', sheet_name=\"Full_new\")\n",
    "\n",
    "data = pd.merge(PCOS_woinf,PCOS_inf, on='Patient File No.', suffixes={'','_y'},how='left')\n",
    "\n",
    "data =data.drop(['Unnamed: 44', 'Sl. No_y', 'PCOS (Y/N)_y', \n",
    "                 '  I   beta-HCG(mIU/mL)_y', 'II    beta-HCG(mIU/mL)_y', 'AMH(ng/mL)_y'], axis=1)\n",
    "\n",
    "data[\"AMH(ng/mL)\"] = pd.to_numeric(data[\"AMH(ng/mL)\"], errors='coerce')\n",
    "data[\"II    beta-HCG(mIU/mL)\"] = pd.to_numeric(data[\"II    beta-HCG(mIU/mL)\"], errors='coerce')\n",
    "\n",
    "data['Marraige Status (Yrs)'].fillna(data['Marraige Status (Yrs)'].median(),inplace=True)\n",
    "data['II    beta-HCG(mIU/mL)'].fillna(data['II    beta-HCG(mIU/mL)'].median(),inplace=True)\n",
    "data['AMH(ng/mL)'].fillna(data['AMH(ng/mL)'].median(),inplace=True)\n",
    "data['Fast food (Y/N)'].fillna(data['Fast food (Y/N)'].median(),inplace=True)\n",
    "\n",
    "data.columns = [col.strip() for col in data.columns]\n",
    "\n",
    "X=data.drop([\"PCOS (Y/N)\",\"Sl. No\",\"Patient File No.\"],axis = 1)\n",
    "y=data[\"PCOS (Y/N)\"]"
   ]
  },
  {
   "cell_type": "code",
   "execution_count": 3,
   "metadata": {},
   "outputs": [],
   "source": [
    "X_train, X_test, y_train, y_test = train_test_split(X, y, test_size=0.2)"
   ]
  },
  {
   "cell_type": "code",
   "execution_count": 4,
   "metadata": {},
   "outputs": [],
   "source": [
    "from sklearn.preprocessing import StandardScaler\n",
    "ss = StandardScaler()\n",
    "random_forest = RandomForestClassifier(max_depth=8, min_samples_leaf=2, min_samples_split=23, n_estimators=100)\n",
    "pipe = Pipeline(steps=(['ss', ss], ['random_forest', random_forest]))"
   ]
  },
  {
   "cell_type": "code",
   "execution_count": 5,
   "metadata": {},
   "outputs": [
    {
     "data": {
      "text/plain": [
       "Pipeline(memory=None,\n",
       "         steps=(['ss',\n",
       "                 StandardScaler(copy=True, with_mean=True, with_std=True)],\n",
       "                ['random_forest',\n",
       "                 RandomForestClassifier(bootstrap=True, ccp_alpha=0.0,\n",
       "                                        class_weight=None, criterion='gini',\n",
       "                                        max_depth=8, max_features='auto',\n",
       "                                        max_leaf_nodes=None, max_samples=None,\n",
       "                                        min_impurity_decrease=0.0,\n",
       "                                        min_impurity_split=None,\n",
       "                                        min_samples_leaf=2,\n",
       "                                        min_samples_split=23,\n",
       "                                        min_weight_fraction_leaf=0.0,\n",
       "                                        n_estimators=100, n_jobs=None,\n",
       "                                        oob_score=False, random_state=None,\n",
       "                                        verbose=0, warm_start=False)]),\n",
       "         verbose=False)"
      ]
     },
     "execution_count": 5,
     "metadata": {},
     "output_type": "execute_result"
    }
   ],
   "source": [
    "pipe"
   ]
  },
  {
   "cell_type": "code",
   "execution_count": 6,
   "metadata": {},
   "outputs": [
    {
     "data": {
      "text/plain": [
       "Pipeline(memory=None,\n",
       "         steps=[('ss',\n",
       "                 StandardScaler(copy=True, with_mean=True, with_std=True)),\n",
       "                ['random_forest',\n",
       "                 RandomForestClassifier(bootstrap=True, ccp_alpha=0.0,\n",
       "                                        class_weight=None, criterion='gini',\n",
       "                                        max_depth=8, max_features='auto',\n",
       "                                        max_leaf_nodes=None, max_samples=None,\n",
       "                                        min_impurity_decrease=0.0,\n",
       "                                        min_impurity_split=None,\n",
       "                                        min_samples_leaf=2,\n",
       "                                        min_samples_split=23,\n",
       "                                        min_weight_fraction_leaf=0.0,\n",
       "                                        n_estimators=100, n_jobs=None,\n",
       "                                        oob_score=False, random_state=None,\n",
       "                                        verbose=0, warm_start=False)]],\n",
       "         verbose=False)"
      ]
     },
     "execution_count": 6,
     "metadata": {},
     "output_type": "execute_result"
    }
   ],
   "source": [
    "pipe.fit(X_train, y_train)"
   ]
  },
  {
   "cell_type": "code",
   "execution_count": 7,
   "metadata": {},
   "outputs": [
    {
     "name": "stdout",
     "output_type": "stream",
     "text": [
      "Training Accuracy: % 95.14\n",
      "Testing Accuracy: % 90.83\n"
     ]
    }
   ],
   "source": [
    "acc_rf_clf_train = round(pipe.score(X_train, y_train)*100,2) \n",
    "acc_rf_clf_test = round(pipe.score(X_test,y_test)*100,2)\n",
    "print(\"Training Accuracy: % {}\".format(acc_rf_clf_train))\n",
    "print(\"Testing Accuracy: % {}\".format(acc_rf_clf_test))"
   ]
  },
  {
   "cell_type": "code",
   "execution_count": 8,
   "metadata": {},
   "outputs": [],
   "source": [
    "pipe_prob_y_pred = pipe.predict_proba(X_test)\n",
    "pipe_fpr, pipe_tpr, pipe_threshold = roc_curve(y_test, pipe_prob_y_pred[:,1])\n",
    "pipe_auc = auc(pipe_fpr, pipe_tpr)"
   ]
  },
  {
   "cell_type": "code",
   "execution_count": 9,
   "metadata": {},
   "outputs": [
    {
     "data": {
      "text/plain": [
       "[]"
      ]
     },
     "execution_count": 9,
     "metadata": {},
     "output_type": "execute_result"
    },
    {
     "data": {
      "image/png": "[encoded data removed]",
      "text/plain": [
       "<Figure size 432x288 with 1 Axes>"
      ]
     },
     "metadata": {},
     "output_type": "display_data"
    }
   ],
   "source": [
    "sns.set(style=\"darkgrid\")\n",
    "plt.plot(pipe_fpr, pipe_tpr, label = 'Random Forest %0.2f'%pipe_auc)\n",
    "plt.plot([0,1],[0,1],'r-')\n",
    "plt.legend()\n",
    "plt.xlabel('False Positive Rate')\n",
    "plt.ylabel('True Positive Rate')\n",
    "plt.plot()"
   ]
  },
  {
   "cell_type": "code",
   "execution_count": 10,
   "metadata": {},
   "outputs": [
    {
     "data": {
      "text/plain": [
       "0.976027397260274"
      ]
     },
     "execution_count": 10,
     "metadata": {},
     "output_type": "execute_result"
    }
   ],
   "source": [
    "roc_auc_score(y_test, pipe_prob_y_pred[:,1])"
   ]
  },
  {
   "cell_type": "code",
   "execution_count": 11,
   "metadata": {},
   "outputs": [
    {
     "data": {
      "text/plain": [
       "0.976027397260274"
      ]
     },
     "execution_count": 11,
     "metadata": {},
     "output_type": "execute_result"
    }
   ],
   "source": [
    "# with ovo\n",
    "\n",
    "roc_auc_score(y_test, pipe_prob_y_pred[:,1], average = 'macro', multi_class = 'ovo')"
   ]
  },
  {
   "cell_type": "code",
   "execution_count": 12,
   "metadata": {},
   "outputs": [
    {
     "data": {
      "text/plain": [
       "0.780241935483871"
      ]
     },
     "execution_count": 12,
     "metadata": {},
     "output_type": "execute_result"
    }
   ],
   "source": [
    "from sklearn.metrics import cohen_kappa_score\n",
    "pred_pipe = pipe.predict(X_test)\n",
    "cohen_kappa_score(y_test, pred_pipe)"
   ]
  },
  {
   "cell_type": "code",
   "execution_count": 13,
   "metadata": {},
   "outputs": [
    {
     "name": "stdout",
     "output_type": "stream",
     "text": [
      "              precision    recall  f1-score   support\n",
      "\n",
      "           0       0.89      0.99      0.94        73\n",
      "           1       0.96      0.75      0.84        36\n",
      "\n",
      "    accuracy                           0.91       109\n",
      "   macro avg       0.93      0.87      0.89       109\n",
      "weighted avg       0.91      0.91      0.90       109\n",
      "\n"
     ]
    }
   ],
   "source": [
    "pred_pipe = pipe.predict(X_test)\n",
    "from sklearn.metrics import classification_report\n",
    "classi_report = classification_report(y_test, pred_pipe)\n",
    "print(classi_report)"
   ]
  },
  {
   "cell_type": "code",
   "execution_count": null,
   "metadata": {},
   "outputs": [],
   "source": []
  }
 ],
 "metadata": {
  "kernelspec": {
   "display_name": "Python 3",
   "language": "python",
   "name": "python3"
  },
  "language_info": {
   "codemirror_mode": {
    "name": "ipython",
    "version": 3
   },
   "file_extension": ".py",
   "mimetype": "text/x-python",
   "name": "python",
   "nbconvert_exporter": "python",
   "pygments_lexer": "ipython3",
   "version": "3.7.0"
  }
 },
 "nbformat": 4,
 "nbformat_minor": 4
}
